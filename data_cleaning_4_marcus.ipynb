{
 "cells": [
  {
   "cell_type": "markdown",
   "metadata": {},
   "source": [
    "# Data Cleaning 4\n",
    "\n",
    "---\n",
    "> Objective: \n",
    " - Clean the data in res_detail to get an appropriate property features in terms of number of bedrooms and bathrooms(half bathroom to be counted as 1/2 full bathroom)\n",
    " - Clean the data in account_info to get a full address of the listed properties "
   ]
  },
  {
   "cell_type": "code",
   "execution_count": 4,
   "metadata": {},
   "outputs": [],
   "source": [
    "import pandas as pd\n",
    "import matplotlib.pyplot as plt\n",
    "import plotly.express as px\n",
    "import hvplot.pandas\n",
    "import numpy as np"
   ]
  },
  {
   "cell_type": "code",
   "execution_count": 64,
   "metadata": {},
   "outputs": [],
   "source": [
    "# import csv files\n",
    "df_res = pd.read_csv('./Resources/res_detail_new.csv')\n",
    "df_info = pd.read_csv('./Resources/account_info_new.csv')"
   ]
  },
  {
   "cell_type": "code",
   "execution_count": 7,
   "metadata": {},
   "outputs": [
    {
     "data": {
      "text/html": [
       "<div>\n",
       "<style scoped>\n",
       "    .dataframe tbody tr th:only-of-type {\n",
       "        vertical-align: middle;\n",
       "    }\n",
       "\n",
       "    .dataframe tbody tr th {\n",
       "        vertical-align: top;\n",
       "    }\n",
       "\n",
       "    .dataframe thead th {\n",
       "        text-align: right;\n",
       "    }\n",
       "</style>\n",
       "<table border=\"1\" class=\"dataframe\">\n",
       "  <thead>\n",
       "    <tr style=\"text-align: right;\">\n",
       "      <th></th>\n",
       "      <th>ACCOUNT_NUM</th>\n",
       "      <th>ACT_AGE</th>\n",
       "      <th>TOT_LIVING_AREA_SF</th>\n",
       "      <th>NUM_FULL_BATHS</th>\n",
       "      <th>NUM_HALF_BATHS</th>\n",
       "      <th>NUM_BEDROOMS</th>\n",
       "    </tr>\n",
       "  </thead>\n",
       "  <tbody>\n",
       "    <tr>\n",
       "      <th>0</th>\n",
       "      <td>00000244603000000</td>\n",
       "      <td>68</td>\n",
       "      <td>1628</td>\n",
       "      <td>1</td>\n",
       "      <td>1</td>\n",
       "      <td>3</td>\n",
       "    </tr>\n",
       "    <tr>\n",
       "      <th>1</th>\n",
       "      <td>00000244873000000</td>\n",
       "      <td>72</td>\n",
       "      <td>1965</td>\n",
       "      <td>2</td>\n",
       "      <td>0</td>\n",
       "      <td>3</td>\n",
       "    </tr>\n",
       "    <tr>\n",
       "      <th>2</th>\n",
       "      <td>00000244975000000</td>\n",
       "      <td>72</td>\n",
       "      <td>2519</td>\n",
       "      <td>3</td>\n",
       "      <td>0</td>\n",
       "      <td>3</td>\n",
       "    </tr>\n",
       "    <tr>\n",
       "      <th>3</th>\n",
       "      <td>00000245347000000</td>\n",
       "      <td>68</td>\n",
       "      <td>2112</td>\n",
       "      <td>2</td>\n",
       "      <td>0</td>\n",
       "      <td>3</td>\n",
       "    </tr>\n",
       "    <tr>\n",
       "      <th>4</th>\n",
       "      <td>00000244600000000</td>\n",
       "      <td>69</td>\n",
       "      <td>1272</td>\n",
       "      <td>1</td>\n",
       "      <td>0</td>\n",
       "      <td>2</td>\n",
       "    </tr>\n",
       "  </tbody>\n",
       "</table>\n",
       "</div>"
      ],
      "text/plain": [
       "         ACCOUNT_NUM  ACT_AGE  TOT_LIVING_AREA_SF  NUM_FULL_BATHS  \\\n",
       "0  00000244603000000       68                1628               1   \n",
       "1  00000244873000000       72                1965               2   \n",
       "2  00000244975000000       72                2519               3   \n",
       "3  00000245347000000       68                2112               2   \n",
       "4  00000244600000000       69                1272               1   \n",
       "\n",
       "   NUM_HALF_BATHS  NUM_BEDROOMS  \n",
       "0               1             3  \n",
       "1               0             3  \n",
       "2               0             3  \n",
       "3               0             3  \n",
       "4               0             2  "
      ]
     },
     "execution_count": 7,
     "metadata": {},
     "output_type": "execute_result"
    }
   ],
   "source": [
    "df_res.head()"
   ]
  },
  {
   "cell_type": "code",
   "execution_count": 8,
   "metadata": {},
   "outputs": [
    {
     "data": {
      "text/plain": [
       "Index(['ACCOUNT_NUM', 'ACT_AGE', 'TOT_LIVING_AREA_SF', 'NUM_FULL_BATHS',\n",
       "       'NUM_HALF_BATHS', 'NUM_BEDROOMS'],\n",
       "      dtype='object')"
      ]
     },
     "execution_count": 8,
     "metadata": {},
     "output_type": "execute_result"
    }
   ],
   "source": [
    "df_res.columns"
   ]
  },
  {
   "cell_type": "code",
   "execution_count": 9,
   "metadata": {},
   "outputs": [],
   "source": [
    "# set values in 'num_half_baths' as 1/2 of full_baths each\n",
    "df_res['NUM_HALF_BATHS'] = df_res['NUM_HALF_BATHS'] / 2"
   ]
  },
  {
   "cell_type": "code",
   "execution_count": 19,
   "metadata": {},
   "outputs": [
    {
     "data": {
      "text/html": [
       "<div>\n",
       "<style scoped>\n",
       "    .dataframe tbody tr th:only-of-type {\n",
       "        vertical-align: middle;\n",
       "    }\n",
       "\n",
       "    .dataframe tbody tr th {\n",
       "        vertical-align: top;\n",
       "    }\n",
       "\n",
       "    .dataframe thead th {\n",
       "        text-align: right;\n",
       "    }\n",
       "</style>\n",
       "<table border=\"1\" class=\"dataframe\">\n",
       "  <thead>\n",
       "    <tr style=\"text-align: right;\">\n",
       "      <th></th>\n",
       "      <th>ACCOUNT_NUM</th>\n",
       "      <th>ACT_AGE</th>\n",
       "      <th>TOT_LIVING_AREA_SF</th>\n",
       "      <th>NUM_BEDROOMS</th>\n",
       "      <th>NUM_BATHS</th>\n",
       "    </tr>\n",
       "  </thead>\n",
       "  <tbody>\n",
       "    <tr>\n",
       "      <th>0</th>\n",
       "      <td>00000244603000000</td>\n",
       "      <td>68</td>\n",
       "      <td>1628</td>\n",
       "      <td>3</td>\n",
       "      <td>1.5</td>\n",
       "    </tr>\n",
       "    <tr>\n",
       "      <th>1</th>\n",
       "      <td>00000244873000000</td>\n",
       "      <td>72</td>\n",
       "      <td>1965</td>\n",
       "      <td>3</td>\n",
       "      <td>2.0</td>\n",
       "    </tr>\n",
       "    <tr>\n",
       "      <th>2</th>\n",
       "      <td>00000244975000000</td>\n",
       "      <td>72</td>\n",
       "      <td>2519</td>\n",
       "      <td>3</td>\n",
       "      <td>3.0</td>\n",
       "    </tr>\n",
       "    <tr>\n",
       "      <th>3</th>\n",
       "      <td>00000245347000000</td>\n",
       "      <td>68</td>\n",
       "      <td>2112</td>\n",
       "      <td>3</td>\n",
       "      <td>2.0</td>\n",
       "    </tr>\n",
       "    <tr>\n",
       "      <th>4</th>\n",
       "      <td>00000244600000000</td>\n",
       "      <td>69</td>\n",
       "      <td>1272</td>\n",
       "      <td>2</td>\n",
       "      <td>1.0</td>\n",
       "    </tr>\n",
       "  </tbody>\n",
       "</table>\n",
       "</div>"
      ],
      "text/plain": [
       "         ACCOUNT_NUM  ACT_AGE  TOT_LIVING_AREA_SF  NUM_BEDROOMS  NUM_BATHS\n",
       "0  00000244603000000       68                1628             3        1.5\n",
       "1  00000244873000000       72                1965             3        2.0\n",
       "2  00000244975000000       72                2519             3        3.0\n",
       "3  00000245347000000       68                2112             3        2.0\n",
       "4  00000244600000000       69                1272             2        1.0"
      ]
     },
     "execution_count": 19,
     "metadata": {},
     "output_type": "execute_result"
    }
   ],
   "source": [
    "# create a new column 'NUM_BATHS' in which concatenates number of bedrooms(full + half) and drop the original columns\n",
    "df_res['NUM_BATHS'] = df_res['NUM_FULL_BATHS'] + df_res['NUM_HALF_BATHS']\n",
    "df_res.drop(columns = ['NUM_FULL_BATHS', 'NUM_HALF_BATHS']).head()"
   ]
  },
  {
   "cell_type": "code",
   "execution_count": 46,
   "metadata": {},
   "outputs": [],
   "source": [
    "# export a new csv files to Resources folder\n",
    "df_res.to_csv('./Resources/account_info_final.csv')"
   ]
  },
  {
   "cell_type": "code",
   "execution_count": 65,
   "metadata": {},
   "outputs": [
    {
     "data": {
      "text/plain": [
       "ACCOUNT_NUM          object\n",
       "STREET_NUM            int64\n",
       "FULL_STREET_NAME     object\n",
       "BLDG_ID              object\n",
       "UNIT_ID              object\n",
       "PROPERTY_CITY        object\n",
       "PROPERTY_ZIPCODE    float64\n",
       "dtype: object"
      ]
     },
     "execution_count": 65,
     "metadata": {},
     "output_type": "execute_result"
    }
   ],
   "source": [
    "df_info.dtypes"
   ]
  },
  {
   "cell_type": "code",
   "execution_count": 66,
   "metadata": {},
   "outputs": [
    {
     "data": {
      "text/plain": [
       "ACCOUNT_NUM         object\n",
       "STREET_NUM          object\n",
       "FULL_STREET_NAME    object\n",
       "BLDG_ID             object\n",
       "UNIT_ID             object\n",
       "PROPERTY_CITY       object\n",
       "PROPERTY_ZIPCODE    object\n",
       "dtype: object"
      ]
     },
     "execution_count": 66,
     "metadata": {},
     "output_type": "execute_result"
    }
   ],
   "source": [
    "# Change data types to string\n",
    "df_info['STREET_NUM'] = df_info['STREET_NUM'].astype('str')\n",
    "df_info['PROPERTY_ZIPCODE'] = df_info['PROPERTY_ZIPCODE'].astype('str')\n",
    "df_info.dtypes"
   ]
  },
  {
   "cell_type": "code",
   "execution_count": 68,
   "metadata": {},
   "outputs": [
    {
     "data": {
      "text/html": [
       "<div>\n",
       "<style scoped>\n",
       "    .dataframe tbody tr th:only-of-type {\n",
       "        vertical-align: middle;\n",
       "    }\n",
       "\n",
       "    .dataframe tbody tr th {\n",
       "        vertical-align: top;\n",
       "    }\n",
       "\n",
       "    .dataframe thead th {\n",
       "        text-align: right;\n",
       "    }\n",
       "</style>\n",
       "<table border=\"1\" class=\"dataframe\">\n",
       "  <thead>\n",
       "    <tr style=\"text-align: right;\">\n",
       "      <th></th>\n",
       "      <th>ACCOUNT_NUM</th>\n",
       "      <th>STREET_NUM</th>\n",
       "      <th>FULL_STREET_NAME</th>\n",
       "      <th>BLDG_ID</th>\n",
       "      <th>UNIT_ID</th>\n",
       "      <th>PROPERTY_CITY</th>\n",
       "      <th>PROPERTY_ZIPCODE</th>\n",
       "    </tr>\n",
       "  </thead>\n",
       "  <tbody>\n",
       "    <tr>\n",
       "      <th>839987</th>\n",
       "      <td>00000511876000000</td>\n",
       "      <td>3921</td>\n",
       "      <td>OVERTON CT</td>\n",
       "      <td>NaN</td>\n",
       "      <td>NaN</td>\n",
       "      <td>DALLAS</td>\n",
       "      <td>75216</td>\n",
       "    </tr>\n",
       "    <tr>\n",
       "      <th>839988</th>\n",
       "      <td>00000515854000000</td>\n",
       "      <td>5611</td>\n",
       "      <td>MEADOWICK LN</td>\n",
       "      <td>NaN</td>\n",
       "      <td>NaN</td>\n",
       "      <td>DALLAS</td>\n",
       "      <td>752271525</td>\n",
       "    </tr>\n",
       "    <tr>\n",
       "      <th>839989</th>\n",
       "      <td>00000515881000000</td>\n",
       "      <td>5606</td>\n",
       "      <td>MEADOWICK LN</td>\n",
       "      <td>NaN</td>\n",
       "      <td>NaN</td>\n",
       "      <td>DALLAS</td>\n",
       "      <td>752271524</td>\n",
       "    </tr>\n",
       "    <tr>\n",
       "      <th>839990</th>\n",
       "      <td>00000516454500000</td>\n",
       "      <td>5633</td>\n",
       "      <td>EMROSE TERRACE</td>\n",
       "      <td>NaN</td>\n",
       "      <td>NaN</td>\n",
       "      <td>DALLAS</td>\n",
       "      <td>752272952</td>\n",
       "    </tr>\n",
       "    <tr>\n",
       "      <th>839991</th>\n",
       "      <td>00000518437000000</td>\n",
       "      <td>9735</td>\n",
       "      <td>BLUFF DALE DR</td>\n",
       "      <td>NaN</td>\n",
       "      <td>NaN</td>\n",
       "      <td>DALLAS</td>\n",
       "      <td>752182141</td>\n",
       "    </tr>\n",
       "  </tbody>\n",
       "</table>\n",
       "</div>"
      ],
      "text/plain": [
       "              ACCOUNT_NUM STREET_NUM FULL_STREET_NAME BLDG_ID UNIT_ID  \\\n",
       "839987  00000511876000000       3921       OVERTON CT     NaN     NaN   \n",
       "839988  00000515854000000       5611     MEADOWICK LN     NaN     NaN   \n",
       "839989  00000515881000000       5606     MEADOWICK LN     NaN     NaN   \n",
       "839990  00000516454500000       5633  EMROSE TERRACE      NaN     NaN   \n",
       "839991  00000518437000000       9735    BLUFF DALE DR     NaN     NaN   \n",
       "\n",
       "       PROPERTY_CITY PROPERTY_ZIPCODE  \n",
       "839987        DALLAS            75216  \n",
       "839988        DALLAS        752271525  \n",
       "839989        DALLAS        752271524  \n",
       "839990        DALLAS        752272952  \n",
       "839991        DALLAS        752182141  "
      ]
     },
     "execution_count": 68,
     "metadata": {},
     "output_type": "execute_result"
    }
   ],
   "source": [
    "# remove decimal points in 'PROPERTY_ZIPCODE'\n",
    "df_info['PROPERTY_ZIPCODE'] = df_info['PROPERTY_ZIPCODE'].apply(lambda x: x.split('.')[0])\n",
    "df_info.tail()"
   ]
  },
  {
   "cell_type": "code",
   "execution_count": 69,
   "metadata": {},
   "outputs": [
    {
     "data": {
      "text/plain": [
       "Index(['ACCOUNT_NUM', 'STREET_NUM', 'FULL_STREET_NAME', 'BLDG_ID', 'UNIT_ID',\n",
       "       'PROPERTY_CITY', 'PROPERTY_ZIPCODE'],\n",
       "      dtype='object')"
      ]
     },
     "execution_count": 69,
     "metadata": {},
     "output_type": "execute_result"
    }
   ],
   "source": [
    "df_info.columns"
   ]
  },
  {
   "cell_type": "code",
   "execution_count": 71,
   "metadata": {},
   "outputs": [
    {
     "data": {
      "text/html": [
       "<div>\n",
       "<style scoped>\n",
       "    .dataframe tbody tr th:only-of-type {\n",
       "        vertical-align: middle;\n",
       "    }\n",
       "\n",
       "    .dataframe tbody tr th {\n",
       "        vertical-align: top;\n",
       "    }\n",
       "\n",
       "    .dataframe thead th {\n",
       "        text-align: right;\n",
       "    }\n",
       "</style>\n",
       "<table border=\"1\" class=\"dataframe\">\n",
       "  <thead>\n",
       "    <tr style=\"text-align: right;\">\n",
       "      <th></th>\n",
       "      <th>ACCOUNT_NUM</th>\n",
       "      <th>STREET_NUM</th>\n",
       "      <th>FULL_STREET_NAME</th>\n",
       "      <th>BLDG_ID</th>\n",
       "      <th>UNIT_ID</th>\n",
       "      <th>PROPERTY_CITY</th>\n",
       "      <th>PROPERTY_ZIPCODE</th>\n",
       "      <th>ADDRESS</th>\n",
       "    </tr>\n",
       "  </thead>\n",
       "  <tbody>\n",
       "    <tr>\n",
       "      <th>839987</th>\n",
       "      <td>00000511876000000</td>\n",
       "      <td>3921</td>\n",
       "      <td>OVERTON CT</td>\n",
       "      <td>NaN</td>\n",
       "      <td>NaN</td>\n",
       "      <td>DALLAS</td>\n",
       "      <td>75216</td>\n",
       "      <td>3921 OVERTON CT, DALLAS, 75216</td>\n",
       "    </tr>\n",
       "    <tr>\n",
       "      <th>839988</th>\n",
       "      <td>00000515854000000</td>\n",
       "      <td>5611</td>\n",
       "      <td>MEADOWICK LN</td>\n",
       "      <td>NaN</td>\n",
       "      <td>NaN</td>\n",
       "      <td>DALLAS</td>\n",
       "      <td>752271525</td>\n",
       "      <td>5611 MEADOWICK LN, DALLAS, 752271525</td>\n",
       "    </tr>\n",
       "    <tr>\n",
       "      <th>839989</th>\n",
       "      <td>00000515881000000</td>\n",
       "      <td>5606</td>\n",
       "      <td>MEADOWICK LN</td>\n",
       "      <td>NaN</td>\n",
       "      <td>NaN</td>\n",
       "      <td>DALLAS</td>\n",
       "      <td>752271524</td>\n",
       "      <td>5606 MEADOWICK LN, DALLAS, 752271524</td>\n",
       "    </tr>\n",
       "    <tr>\n",
       "      <th>839990</th>\n",
       "      <td>00000516454500000</td>\n",
       "      <td>5633</td>\n",
       "      <td>EMROSE TERRACE</td>\n",
       "      <td>NaN</td>\n",
       "      <td>NaN</td>\n",
       "      <td>DALLAS</td>\n",
       "      <td>752272952</td>\n",
       "      <td>5633 EMROSE TERRACE , DALLAS, 752272952</td>\n",
       "    </tr>\n",
       "    <tr>\n",
       "      <th>839991</th>\n",
       "      <td>00000518437000000</td>\n",
       "      <td>9735</td>\n",
       "      <td>BLUFF DALE DR</td>\n",
       "      <td>NaN</td>\n",
       "      <td>NaN</td>\n",
       "      <td>DALLAS</td>\n",
       "      <td>752182141</td>\n",
       "      <td>9735 BLUFF DALE DR, DALLAS, 752182141</td>\n",
       "    </tr>\n",
       "  </tbody>\n",
       "</table>\n",
       "</div>"
      ],
      "text/plain": [
       "              ACCOUNT_NUM STREET_NUM FULL_STREET_NAME BLDG_ID UNIT_ID  \\\n",
       "839987  00000511876000000       3921       OVERTON CT     NaN     NaN   \n",
       "839988  00000515854000000       5611     MEADOWICK LN     NaN     NaN   \n",
       "839989  00000515881000000       5606     MEADOWICK LN     NaN     NaN   \n",
       "839990  00000516454500000       5633  EMROSE TERRACE      NaN     NaN   \n",
       "839991  00000518437000000       9735    BLUFF DALE DR     NaN     NaN   \n",
       "\n",
       "       PROPERTY_CITY PROPERTY_ZIPCODE                                  ADDRESS  \n",
       "839987        DALLAS            75216           3921 OVERTON CT, DALLAS, 75216  \n",
       "839988        DALLAS        752271525     5611 MEADOWICK LN, DALLAS, 752271525  \n",
       "839989        DALLAS        752271524     5606 MEADOWICK LN, DALLAS, 752271524  \n",
       "839990        DALLAS        752272952  5633 EMROSE TERRACE , DALLAS, 752272952  \n",
       "839991        DALLAS        752182141    9735 BLUFF DALE DR, DALLAS, 752182141  "
      ]
     },
     "execution_count": 71,
     "metadata": {},
     "output_type": "execute_result"
    }
   ],
   "source": [
    "# create a new column 'ADDRESS' that contains a full address from all columns\n",
    "df_info['ADDRESS'] =  df_info['STREET_NUM'] + \" \" + df_info['FULL_STREET_NAME'] + \", \" + df_info['PROPERTY_CITY']+ \", \" + df_info['PROPERTY_ZIPCODE']\n",
    "df_info.tail()"
   ]
  },
  {
   "cell_type": "code",
   "execution_count": 72,
   "metadata": {},
   "outputs": [
    {
     "data": {
      "text/html": [
       "<div>\n",
       "<style scoped>\n",
       "    .dataframe tbody tr th:only-of-type {\n",
       "        vertical-align: middle;\n",
       "    }\n",
       "\n",
       "    .dataframe tbody tr th {\n",
       "        vertical-align: top;\n",
       "    }\n",
       "\n",
       "    .dataframe thead th {\n",
       "        text-align: right;\n",
       "    }\n",
       "</style>\n",
       "<table border=\"1\" class=\"dataframe\">\n",
       "  <thead>\n",
       "    <tr style=\"text-align: right;\">\n",
       "      <th></th>\n",
       "      <th>ACCOUNT_NUM</th>\n",
       "      <th>STREET_NUM</th>\n",
       "      <th>FULL_STREET_NAME</th>\n",
       "      <th>BLDG_ID</th>\n",
       "      <th>UNIT_ID</th>\n",
       "      <th>PROPERTY_CITY</th>\n",
       "      <th>PROPERTY_ZIPCODE</th>\n",
       "      <th>ADDRESS</th>\n",
       "    </tr>\n",
       "  </thead>\n",
       "  <tbody>\n",
       "    <tr>\n",
       "      <th>0</th>\n",
       "      <td>99200006100217400</td>\n",
       "      <td>54325</td>\n",
       "      <td>LEASED EQUIPMENT</td>\n",
       "      <td>NaN</td>\n",
       "      <td>NaN</td>\n",
       "      <td>NaN</td>\n",
       "      <td>nan</td>\n",
       "      <td>NaN</td>\n",
       "    </tr>\n",
       "    <tr>\n",
       "      <th>1</th>\n",
       "      <td>99821070000050500</td>\n",
       "      <td>34000</td>\n",
       "      <td>LEASED EQUIPMENT</td>\n",
       "      <td>NaN</td>\n",
       "      <td>NaN</td>\n",
       "      <td>NaN</td>\n",
       "      <td>nan</td>\n",
       "      <td>NaN</td>\n",
       "    </tr>\n",
       "    <tr>\n",
       "      <th>2</th>\n",
       "      <td>99860020000719950</td>\n",
       "      <td>51000</td>\n",
       "      <td>LEASED EQUIPMENT</td>\n",
       "      <td>NaN</td>\n",
       "      <td>NaN</td>\n",
       "      <td>NaN</td>\n",
       "      <td>nan</td>\n",
       "      <td>NaN</td>\n",
       "    </tr>\n",
       "    <tr>\n",
       "      <th>3</th>\n",
       "      <td>99860020000743650</td>\n",
       "      <td>72200</td>\n",
       "      <td>LEASED EQUIPMENT</td>\n",
       "      <td>NaN</td>\n",
       "      <td>NaN</td>\n",
       "      <td>NaN</td>\n",
       "      <td>nan</td>\n",
       "      <td>NaN</td>\n",
       "    </tr>\n",
       "    <tr>\n",
       "      <th>4</th>\n",
       "      <td>99980280000102350</td>\n",
       "      <td>22175</td>\n",
       "      <td>LEASED EQUIPMENT</td>\n",
       "      <td>NaN</td>\n",
       "      <td>NaN</td>\n",
       "      <td>NaN</td>\n",
       "      <td>nan</td>\n",
       "      <td>NaN</td>\n",
       "    </tr>\n",
       "  </tbody>\n",
       "</table>\n",
       "</div>"
      ],
      "text/plain": [
       "         ACCOUNT_NUM STREET_NUM   FULL_STREET_NAME BLDG_ID UNIT_ID  \\\n",
       "0  99200006100217400      54325  LEASED EQUIPMENT      NaN     NaN   \n",
       "1  99821070000050500      34000  LEASED EQUIPMENT      NaN     NaN   \n",
       "2  99860020000719950      51000  LEASED EQUIPMENT      NaN     NaN   \n",
       "3  99860020000743650      72200  LEASED EQUIPMENT      NaN     NaN   \n",
       "4  99980280000102350      22175  LEASED EQUIPMENT      NaN     NaN   \n",
       "\n",
       "  PROPERTY_CITY PROPERTY_ZIPCODE ADDRESS  \n",
       "0           NaN              nan     NaN  \n",
       "1           NaN              nan     NaN  \n",
       "2           NaN              nan     NaN  \n",
       "3           NaN              nan     NaN  \n",
       "4           NaN              nan     NaN  "
      ]
     },
     "execution_count": 72,
     "metadata": {},
     "output_type": "execute_result"
    }
   ],
   "source": [
    "df_info.head()"
   ]
  },
  {
   "cell_type": "code",
   "execution_count": 74,
   "metadata": {},
   "outputs": [
    {
     "data": {
      "text/html": [
       "<div>\n",
       "<style scoped>\n",
       "    .dataframe tbody tr th:only-of-type {\n",
       "        vertical-align: middle;\n",
       "    }\n",
       "\n",
       "    .dataframe tbody tr th {\n",
       "        vertical-align: top;\n",
       "    }\n",
       "\n",
       "    .dataframe thead th {\n",
       "        text-align: right;\n",
       "    }\n",
       "</style>\n",
       "<table border=\"1\" class=\"dataframe\">\n",
       "  <thead>\n",
       "    <tr style=\"text-align: right;\">\n",
       "      <th></th>\n",
       "      <th>ACCOUNT_NUM</th>\n",
       "      <th>ADDRESS</th>\n",
       "    </tr>\n",
       "  </thead>\n",
       "  <tbody>\n",
       "    <tr>\n",
       "      <th>0</th>\n",
       "      <td>99200006100217400</td>\n",
       "      <td>NaN</td>\n",
       "    </tr>\n",
       "    <tr>\n",
       "      <th>1</th>\n",
       "      <td>99821070000050500</td>\n",
       "      <td>NaN</td>\n",
       "    </tr>\n",
       "    <tr>\n",
       "      <th>2</th>\n",
       "      <td>99860020000719950</td>\n",
       "      <td>NaN</td>\n",
       "    </tr>\n",
       "    <tr>\n",
       "      <th>3</th>\n",
       "      <td>99860020000743650</td>\n",
       "      <td>NaN</td>\n",
       "    </tr>\n",
       "    <tr>\n",
       "      <th>4</th>\n",
       "      <td>99980280000102350</td>\n",
       "      <td>NaN</td>\n",
       "    </tr>\n",
       "  </tbody>\n",
       "</table>\n",
       "</div>"
      ],
      "text/plain": [
       "         ACCOUNT_NUM ADDRESS\n",
       "0  99200006100217400     NaN\n",
       "1  99821070000050500     NaN\n",
       "2  99860020000719950     NaN\n",
       "3  99860020000743650     NaN\n",
       "4  99980280000102350     NaN"
      ]
     },
     "execution_count": 74,
     "metadata": {},
     "output_type": "execute_result"
    }
   ],
   "source": [
    "# slice necessary columns only\n",
    "df_info = df_info[['ACCOUNT_NUM', 'ADDRESS']]\n",
    "df_info.head()"
   ]
  },
  {
   "cell_type": "code",
   "execution_count": 75,
   "metadata": {},
   "outputs": [],
   "source": [
    "# export a new csv files to Resources folder\n",
    "df_info.to_csv('./Resources/address.csv')"
   ]
  }
 ],
 "metadata": {
  "kernelspec": {
   "display_name": "Python 3",
   "language": "python",
   "name": "python3"
  },
  "language_info": {
   "codemirror_mode": {
    "name": "ipython",
    "version": 3
   },
   "file_extension": ".py",
   "mimetype": "text/x-python",
   "name": "python",
   "nbconvert_exporter": "python",
   "pygments_lexer": "ipython3",
   "version": "3.7.7"
  }
 },
 "nbformat": 4,
 "nbformat_minor": 4
}
