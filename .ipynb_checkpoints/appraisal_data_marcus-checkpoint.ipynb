{
 "cells": [
  {
   "cell_type": "code",
   "execution_count": 1,
   "metadata": {},
   "outputs": [],
   "source": [
    "import pandas as pd\n",
    "import matplotlib.pyplot as plt\n",
    "import numpy as np\n",
    "import os\n",
    "%matplotlib inline"
   ]
  },
  {
   "cell_type": "code",
   "execution_count": 19,
   "metadata": {},
   "outputs": [
    {
     "data": {
      "text/html": [
       "<div>\n",
       "<style scoped>\n",
       "    .dataframe tbody tr th:only-of-type {\n",
       "        vertical-align: middle;\n",
       "    }\n",
       "\n",
       "    .dataframe tbody tr th {\n",
       "        vertical-align: top;\n",
       "    }\n",
       "\n",
       "    .dataframe thead th {\n",
       "        text-align: right;\n",
       "    }\n",
       "</style>\n",
       "<table border=\"1\" class=\"dataframe\">\n",
       "  <thead>\n",
       "    <tr style=\"text-align: right;\">\n",
       "      <th></th>\n",
       "      <th>ACCOUNT_NUM</th>\n",
       "      <th>APPRAISAL_YR</th>\n",
       "      <th>TOT_VAL</th>\n",
       "      <th>PREV_MKT_VAL</th>\n",
       "      <th>CITY_JURIS_DESC</th>\n",
       "      <th>COUNTY_JURIS_DESC</th>\n",
       "      <th>ISD_JURIS_DESC</th>\n",
       "      <th>CITY_TAXABLE_VAL</th>\n",
       "      <th>APPRAISAL_METH_CD</th>\n",
       "      <th>DIVISION_CD</th>\n",
       "      <th>BLDG_CLASS_CD</th>\n",
       "    </tr>\n",
       "  </thead>\n",
       "  <tbody>\n",
       "    <tr>\n",
       "      <th>0</th>\n",
       "      <td>794000000000</td>\n",
       "      <td>2020</td>\n",
       "      <td>823360</td>\n",
       "      <td>750000.0</td>\n",
       "      <td>DALLAS</td>\n",
       "      <td>DALLAS COUNTY</td>\n",
       "      <td>RICHARDSON ISD</td>\n",
       "      <td>823360</td>\n",
       "      <td>3</td>\n",
       "      <td>COM</td>\n",
       "      <td>RETAIL STRIP</td>\n",
       "    </tr>\n",
       "    <tr>\n",
       "      <th>1</th>\n",
       "      <td>102000000000</td>\n",
       "      <td>2020</td>\n",
       "      <td>384280</td>\n",
       "      <td>512040.0</td>\n",
       "      <td>DALLAS</td>\n",
       "      <td>DALLAS COUNTY</td>\n",
       "      <td>DALLAS ISD</td>\n",
       "      <td>384280</td>\n",
       "      <td>1</td>\n",
       "      <td>COM</td>\n",
       "      <td>STORAGE WAREHOUSE</td>\n",
       "    </tr>\n",
       "    <tr>\n",
       "      <th>2</th>\n",
       "      <td>103000000000</td>\n",
       "      <td>2020</td>\n",
       "      <td>1619550</td>\n",
       "      <td>1403610.0</td>\n",
       "      <td>DALLAS</td>\n",
       "      <td>DALLAS COUNTY</td>\n",
       "      <td>DALLAS ISD</td>\n",
       "      <td>0</td>\n",
       "      <td>1</td>\n",
       "      <td>COM</td>\n",
       "      <td>LAND ONLY</td>\n",
       "    </tr>\n",
       "    <tr>\n",
       "      <th>3</th>\n",
       "      <td>103000000000</td>\n",
       "      <td>2020</td>\n",
       "      <td>413820</td>\n",
       "      <td>326700.0</td>\n",
       "      <td>DALLAS</td>\n",
       "      <td>DALLAS COUNTY</td>\n",
       "      <td>DALLAS ISD</td>\n",
       "      <td>413820</td>\n",
       "      <td>1</td>\n",
       "      <td>COM</td>\n",
       "      <td>LAND ONLY</td>\n",
       "    </tr>\n",
       "    <tr>\n",
       "      <th>4</th>\n",
       "      <td>104000000000</td>\n",
       "      <td>2020</td>\n",
       "      <td>455400</td>\n",
       "      <td>370000.0</td>\n",
       "      <td>DALLAS</td>\n",
       "      <td>DALLAS COUNTY</td>\n",
       "      <td>DALLAS ISD</td>\n",
       "      <td>455400</td>\n",
       "      <td>3</td>\n",
       "      <td>COM</td>\n",
       "      <td>OFFICE/SHOWROOM</td>\n",
       "    </tr>\n",
       "  </tbody>\n",
       "</table>\n",
       "</div>"
      ],
      "text/plain": [
       "    ACCOUNT_NUM  APPRAISAL_YR  TOT_VAL  PREV_MKT_VAL CITY_JURIS_DESC  \\\n",
       "0  794000000000          2020   823360      750000.0          DALLAS   \n",
       "1  102000000000          2020   384280      512040.0          DALLAS   \n",
       "2  103000000000          2020  1619550     1403610.0          DALLAS   \n",
       "3  103000000000          2020   413820      326700.0          DALLAS   \n",
       "4  104000000000          2020   455400      370000.0          DALLAS   \n",
       "\n",
       "  COUNTY_JURIS_DESC  ISD_JURIS_DESC  CITY_TAXABLE_VAL  APPRAISAL_METH_CD  \\\n",
       "0     DALLAS COUNTY  RICHARDSON ISD            823360                  3   \n",
       "1     DALLAS COUNTY      DALLAS ISD            384280                  1   \n",
       "2     DALLAS COUNTY      DALLAS ISD                 0                  1   \n",
       "3     DALLAS COUNTY      DALLAS ISD            413820                  1   \n",
       "4     DALLAS COUNTY      DALLAS ISD            455400                  3   \n",
       "\n",
       "  DIVISION_CD      BLDG_CLASS_CD  \n",
       "0         COM       RETAIL STRIP  \n",
       "1         COM  STORAGE WAREHOUSE  \n",
       "2         COM          LAND ONLY  \n",
       "3         COM          LAND ONLY  \n",
       "4         COM    OFFICE/SHOWROOM  "
      ]
     },
     "execution_count": 19,
     "metadata": {},
     "output_type": "execute_result"
    }
   ],
   "source": [
    "df_2020 = pd.read_csv(\"./Resources/project1_account_apprl_year_2020.csv\")\n",
    "df_2020.head()"
   ]
  },
  {
   "cell_type": "code",
   "execution_count": 8,
   "metadata": {},
   "outputs": [
    {
     "data": {
      "text/plain": [
       "ACCOUNT_NUM           object\n",
       "APPRAISAL_YR           int64\n",
       "TOT_VAL                int64\n",
       "PREV_MKT_VAL         float64\n",
       "CITY_JURIS_DESC       object\n",
       "COUNTY_JURIS_DESC     object\n",
       "ISD_JURIS_DESC        object\n",
       "CITY_TAXABLE_VAL       int64\n",
       "APPRAISAL_METH_CD      int64\n",
       "DIVISION_CD           object\n",
       "BLDG_CLASS_CD         object\n",
       "dtype: object"
      ]
     },
     "execution_count": 8,
     "metadata": {},
     "output_type": "execute_result"
    }
   ],
   "source": [
    "df_2020.dtypes"
   ]
  },
  {
   "cell_type": "code",
   "execution_count": 9,
   "metadata": {},
   "outputs": [
    {
     "data": {
      "text/plain": [
       "(840036, 11)"
      ]
     },
     "execution_count": 9,
     "metadata": {},
     "output_type": "execute_result"
    }
   ],
   "source": [
    "df_2020.shape"
   ]
  },
  {
   "cell_type": "code",
   "execution_count": 10,
   "metadata": {},
   "outputs": [
    {
     "data": {
      "text/html": [
       "<div>\n",
       "<style scoped>\n",
       "    .dataframe tbody tr th:only-of-type {\n",
       "        vertical-align: middle;\n",
       "    }\n",
       "\n",
       "    .dataframe tbody tr th {\n",
       "        vertical-align: top;\n",
       "    }\n",
       "\n",
       "    .dataframe thead th {\n",
       "        text-align: right;\n",
       "    }\n",
       "</style>\n",
       "<table border=\"1\" class=\"dataframe\">\n",
       "  <thead>\n",
       "    <tr style=\"text-align: right;\">\n",
       "      <th></th>\n",
       "      <th>ACCOUNT_NUM</th>\n",
       "      <th>STREET_NUM</th>\n",
       "      <th>FULL_STREET_NAME</th>\n",
       "      <th>BLDG_ID</th>\n",
       "      <th>UNIT_ID</th>\n",
       "      <th>PROPERTY_CITY</th>\n",
       "      <th>PROPERTY_ZIPCODE</th>\n",
       "    </tr>\n",
       "  </thead>\n",
       "  <tbody>\n",
       "    <tr>\n",
       "      <th>0</th>\n",
       "      <td>125584000000</td>\n",
       "      <td>4803</td>\n",
       "      <td>VICTOR ST</td>\n",
       "      <td>NaN</td>\n",
       "      <td>NaN</td>\n",
       "      <td>DALLAS</td>\n",
       "      <td>752461141.0</td>\n",
       "    </tr>\n",
       "    <tr>\n",
       "      <th>1</th>\n",
       "      <td>125680000000</td>\n",
       "      <td>4616</td>\n",
       "      <td>VICTOR ST</td>\n",
       "      <td>NaN</td>\n",
       "      <td>NaN</td>\n",
       "      <td>DALLAS</td>\n",
       "      <td>752461157.0</td>\n",
       "    </tr>\n",
       "    <tr>\n",
       "      <th>2</th>\n",
       "      <td>125731000000</td>\n",
       "      <td>4300</td>\n",
       "      <td>WORTH ST</td>\n",
       "      <td>NaN</td>\n",
       "      <td>NaN</td>\n",
       "      <td>DALLAS</td>\n",
       "      <td>752461301.0</td>\n",
       "    </tr>\n",
       "    <tr>\n",
       "      <th>3</th>\n",
       "      <td>132184000000</td>\n",
       "      <td>2518</td>\n",
       "      <td>S ERVAY ST</td>\n",
       "      <td>NaN</td>\n",
       "      <td>NaN</td>\n",
       "      <td>DALLAS</td>\n",
       "      <td>752152603.0</td>\n",
       "    </tr>\n",
       "    <tr>\n",
       "      <th>4</th>\n",
       "      <td>128110000000</td>\n",
       "      <td>3212</td>\n",
       "      <td>GUNTER AVE</td>\n",
       "      <td>NaN</td>\n",
       "      <td>NaN</td>\n",
       "      <td>DALLAS</td>\n",
       "      <td>752102330.0</td>\n",
       "    </tr>\n",
       "  </tbody>\n",
       "</table>\n",
       "</div>"
      ],
      "text/plain": [
       "    ACCOUNT_NUM  STREET_NUM FULL_STREET_NAME BLDG_ID UNIT_ID PROPERTY_CITY  \\\n",
       "0  125584000000        4803        VICTOR ST     NaN     NaN        DALLAS   \n",
       "1  125680000000        4616        VICTOR ST     NaN     NaN        DALLAS   \n",
       "2  125731000000        4300         WORTH ST     NaN     NaN        DALLAS   \n",
       "3  132184000000        2518       S ERVAY ST     NaN     NaN        DALLAS   \n",
       "4  128110000000        3212       GUNTER AVE     NaN     NaN        DALLAS   \n",
       "\n",
       "   PROPERTY_ZIPCODE  \n",
       "0       752461141.0  \n",
       "1       752461157.0  \n",
       "2       752461301.0  \n",
       "3       752152603.0  \n",
       "4       752102330.0  "
      ]
     },
     "execution_count": 10,
     "metadata": {},
     "output_type": "execute_result"
    }
   ],
   "source": [
    "df_acct_info = pd.read_csv(\"./Resources/project1_account_info.csv\")\n",
    "df_acct_info.head()"
   ]
  },
  {
   "cell_type": "code",
   "execution_count": 15,
   "metadata": {},
   "outputs": [
    {
     "data": {
      "text/plain": [
       "ACCOUNT_NUM          object\n",
       "STREET_NUM            int64\n",
       "FULL_STREET_NAME     object\n",
       "BLDG_ID              object\n",
       "UNIT_ID              object\n",
       "PROPERTY_CITY        object\n",
       "PROPERTY_ZIPCODE    float64\n",
       "dtype: object"
      ]
     },
     "execution_count": 15,
     "metadata": {},
     "output_type": "execute_result"
    }
   ],
   "source": [
    "df_acct_info.dtypes"
   ]
  },
  {
   "cell_type": "code",
   "execution_count": 16,
   "metadata": {},
   "outputs": [
    {
     "data": {
      "text/plain": [
       "(840036, 7)"
      ]
     },
     "execution_count": 16,
     "metadata": {},
     "output_type": "execute_result"
    }
   ],
   "source": [
    "df_acct_info.shape"
   ]
  },
  {
   "cell_type": "code",
   "execution_count": 13,
   "metadata": {},
   "outputs": [
    {
     "data": {
      "text/html": [
       "<div>\n",
       "<style scoped>\n",
       "    .dataframe tbody tr th:only-of-type {\n",
       "        vertical-align: middle;\n",
       "    }\n",
       "\n",
       "    .dataframe tbody tr th {\n",
       "        vertical-align: top;\n",
       "    }\n",
       "\n",
       "    .dataframe thead th {\n",
       "        text-align: right;\n",
       "    }\n",
       "</style>\n",
       "<table border=\"1\" class=\"dataframe\">\n",
       "  <thead>\n",
       "    <tr style=\"text-align: right;\">\n",
       "      <th></th>\n",
       "      <th>ACCOUNT_NUM</th>\n",
       "      <th>ACT_AGE</th>\n",
       "      <th>TOT_LIVING_AREA_SF</th>\n",
       "      <th>NUM_FULL_BATHS</th>\n",
       "      <th>NUM_HALF_BATHS</th>\n",
       "      <th>NUM_BEDROOMS</th>\n",
       "    </tr>\n",
       "  </thead>\n",
       "  <tbody>\n",
       "    <tr>\n",
       "      <th>0</th>\n",
       "      <td>245000000000</td>\n",
       "      <td>68</td>\n",
       "      <td>1628</td>\n",
       "      <td>1</td>\n",
       "      <td>1</td>\n",
       "      <td>3</td>\n",
       "    </tr>\n",
       "    <tr>\n",
       "      <th>1</th>\n",
       "      <td>245000000000</td>\n",
       "      <td>72</td>\n",
       "      <td>1965</td>\n",
       "      <td>2</td>\n",
       "      <td>0</td>\n",
       "      <td>3</td>\n",
       "    </tr>\n",
       "    <tr>\n",
       "      <th>2</th>\n",
       "      <td>245000000000</td>\n",
       "      <td>72</td>\n",
       "      <td>2519</td>\n",
       "      <td>3</td>\n",
       "      <td>0</td>\n",
       "      <td>3</td>\n",
       "    </tr>\n",
       "    <tr>\n",
       "      <th>3</th>\n",
       "      <td>245000000000</td>\n",
       "      <td>68</td>\n",
       "      <td>2112</td>\n",
       "      <td>2</td>\n",
       "      <td>0</td>\n",
       "      <td>3</td>\n",
       "    </tr>\n",
       "    <tr>\n",
       "      <th>4</th>\n",
       "      <td>245000000000</td>\n",
       "      <td>69</td>\n",
       "      <td>1272</td>\n",
       "      <td>1</td>\n",
       "      <td>0</td>\n",
       "      <td>2</td>\n",
       "    </tr>\n",
       "  </tbody>\n",
       "</table>\n",
       "</div>"
      ],
      "text/plain": [
       "    ACCOUNT_NUM  ACT_AGE  TOT_LIVING_AREA_SF  NUM_FULL_BATHS  NUM_HALF_BATHS  \\\n",
       "0  245000000000       68                1628               1               1   \n",
       "1  245000000000       72                1965               2               0   \n",
       "2  245000000000       72                2519               3               0   \n",
       "3  245000000000       68                2112               2               0   \n",
       "4  245000000000       69                1272               1               0   \n",
       "\n",
       "   NUM_BEDROOMS  \n",
       "0             3  \n",
       "1             3  \n",
       "2             3  \n",
       "3             3  \n",
       "4             2  "
      ]
     },
     "execution_count": 13,
     "metadata": {},
     "output_type": "execute_result"
    }
   ],
   "source": [
    "df_res_detail = pd.read_csv(\"./Resources/project1_res_detail.csv\")\n",
    "df_res_detail.head()"
   ]
  },
  {
   "cell_type": "code",
   "execution_count": 17,
   "metadata": {},
   "outputs": [
    {
     "data": {
      "text/plain": [
       "ACCOUNT_NUM           object\n",
       "ACT_AGE                int64\n",
       "TOT_LIVING_AREA_SF     int64\n",
       "NUM_FULL_BATHS         int64\n",
       "NUM_HALF_BATHS         int64\n",
       "NUM_BEDROOMS           int64\n",
       "dtype: object"
      ]
     },
     "execution_count": 17,
     "metadata": {},
     "output_type": "execute_result"
    }
   ],
   "source": [
    "df_res_detail.dtypes"
   ]
  },
  {
   "cell_type": "code",
   "execution_count": 18,
   "metadata": {},
   "outputs": [
    {
     "data": {
      "text/plain": [
       "(660941, 6)"
      ]
     },
     "execution_count": 18,
     "metadata": {},
     "output_type": "execute_result"
    }
   ],
   "source": [
    "df_res_detail.shape"
   ]
  },
  {
   "cell_type": "code",
   "execution_count": null,
   "metadata": {},
   "outputs": [],
   "source": []
  }
 ],
 "metadata": {
  "kernelspec": {
   "display_name": "Python 3",
   "language": "python",
   "name": "python3"
  },
  "language_info": {
   "codemirror_mode": {
    "name": "ipython",
    "version": 3
   },
   "file_extension": ".py",
   "mimetype": "text/x-python",
   "name": "python",
   "nbconvert_exporter": "python",
   "pygments_lexer": "ipython3",
   "version": "3.7.7"
  }
 },
 "nbformat": 4,
 "nbformat_minor": 4
}
